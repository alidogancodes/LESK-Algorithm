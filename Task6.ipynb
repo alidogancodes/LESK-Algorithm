{
 "cells": [
  {
   "cell_type": "markdown",
   "metadata": {},
   "source": [
    "# Task 6\n",
    "Bir Türkçe corpusta LESK algoritması kullanılarak kelime anlamında belirsizlik gidermenin nasıl yapılacağını göstermek için çok basit bir örnek hazırlanmalıdır. Burada öğrenci corpus ve sözlük konusunda esnek davranabilir, yani birkaç cümleden oluşan bir corpus ve birkaç tanımı olan bir sözlük hazırlanabilir."
   ]
  },
  {
   "cell_type": "markdown",
   "metadata": {},
   "source": [
    "## Sözlük yapısı"
   ]
  },
  {
   "cell_type": "code",
   "execution_count": 7,
   "metadata": {},
   "outputs": [],
   "source": [
    "class Synset():\n",
    "    def __init__(self,name,definition):\n",
    "        self._name = name\n",
    "        if isinstance(definition, str):\n",
    "            self._definition = definition\n",
    "        else:\n",
    "            self._list = definition\n",
    "            \n",
    "    def __repr__(self):\n",
    "        return \"%s : '%s' \" % (self._name, self._definition)\n",
    "    \n",
    "    def name(self):\n",
    "        return self._name\n",
    "    \n",
    "    def list(self):\n",
    "        return self._list\n",
    "    \n",
    "    def definition(self):\n",
    "        return self._definition\n",
    "    \n",
    "    def get(self,str):\n",
    "        for set in self._list:\n",
    "            if set.name() == str:\n",
    "                return set.list()"
   ]
  },
  {
   "cell_type": "markdown",
   "metadata": {},
   "source": [
    "# Kelime Anlam Setleri"
   ]
  },
  {
   "cell_type": "code",
   "execution_count": 8,
   "metadata": {},
   "outputs": [],
   "source": [
    "burun_1 = Synset(\"burun_1\", \"ağzın üstünde, alınla üstdudak arasında yer alan, çıkıntılı, iki delikli solunum ve koku alma organı\")\n",
    "burun_2 = Synset(\"burun_2\", \"kimi şeylerin ön ve sivri yeri.\")\n",
    "\n",
    "koruma_1 = Synset(\"koruma_1\", \"genellikle resmi kişileri korumakla görevli kimse, koruma görevlisi.\")\n",
    "koruma_2 = Synset(\"koruma_2\", \"korumak eylemi.\")\n",
    "\n",
    "\n",
    "\n",
    "burun = Synset(\"burun\",[burun_1,burun_2])\n",
    "koruma = Synset(\"koruma\",[koruma_1,koruma_2])\n",
    "\n",
    "_synsets = Synset(\"_synsets\",[burun,koruma])\n"
   ]
  },
  {
   "cell_type": "markdown",
   "metadata": {},
   "source": [
    "## Lesk Algorithma Yapısı\n",
    "Lesk algoritması, kelime anlamındaki belirsizliği ortadan kaldırmak için klasik bir algoritmadır"
   ]
  },
  {
   "cell_type": "code",
   "execution_count": 9,
   "metadata": {},
   "outputs": [],
   "source": [
    "def lesk(context_sentence, ambiguous_word,synsets=None):\n",
    "    context = set(context_sentence)\n",
    "    \n",
    "    if synsets is None:\n",
    "        synsets = _synsets.get(ambiguous_word)\n",
    "        \n",
    "    if not synsets:\n",
    "        return None\n",
    "    \n",
    "    _, sense = max(\n",
    "        (len(context.intersection(ss.definition().split())),ss) \n",
    "        for ss in synsets\n",
    "    )\n",
    "    \n",
    "    return sense"
   ]
  },
  {
   "cell_type": "markdown",
   "metadata": {},
   "source": [
    "# Kullanıcıdan İçeriği Alma Aşaması"
   ]
  },
  {
   "cell_type": "code",
   "execution_count": 10,
   "metadata": {},
   "outputs": [],
   "source": [
    "from transformers import AutoTokenizer\n",
    "tokenizer=AutoTokenizer.from_pretrained(\"dbmdz/bert-base-turkish-cased\")\n",
    "\n",
    "text1=\"Burnum artık koku almıyor.\"\n",
    "text2=\"Bakanı korumaları kurtarmış.\"\n",
    "\n",
    "context1 = tokenizer.tokenize(text1)\n",
    "context2 = tokenizer.tokenize(text2)"
   ]
  },
  {
   "cell_type": "markdown",
   "metadata": {},
   "source": [
    "# Sonuçlar"
   ]
  },
  {
   "cell_type": "code",
   "execution_count": 11,
   "metadata": {},
   "outputs": [
    {
     "name": "stdout",
     "output_type": "stream",
     "text": [
      "burun_1 : 'ağzın üstünde, alınla üstdudak arasında yer alan, çıkıntılı, iki delikli solunum ve koku alma organı' \n"
     ]
    }
   ],
   "source": [
    "result1=lesk(context1,'burun')\n",
    "print(result1)"
   ]
  },
  {
   "cell_type": "code",
   "execution_count": 12,
   "metadata": {},
   "outputs": [
    {
     "name": "stdout",
     "output_type": "stream",
     "text": [
      "koruma_1 : 'genellikle resmi kişileri korumakla görevli kimse, koruma görevlisi.' \n"
     ]
    }
   ],
   "source": [
    "result2=lesk(context2,'koruma')\n",
    "print(result2)"
   ]
  },
  {
   "cell_type": "code",
   "execution_count": null,
   "metadata": {},
   "outputs": [],
   "source": []
  }
 ],
 "metadata": {
  "kernelspec": {
   "display_name": "Python 3",
   "language": "python",
   "name": "python3"
  },
  "language_info": {
   "codemirror_mode": {
    "name": "ipython",
    "version": 3
   },
   "file_extension": ".py",
   "mimetype": "text/x-python",
   "name": "python",
   "nbconvert_exporter": "python",
   "pygments_lexer": "ipython3",
   "version": "3.8.3"
  }
 },
 "nbformat": 4,
 "nbformat_minor": 4
}
